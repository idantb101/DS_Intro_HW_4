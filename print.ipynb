{
 "cells": [
  {
   "cell_type": "code",
   "execution_count": 1,
   "metadata": {},
   "outputs": [
    {
     "name": "stdout",
     "output_type": "stream",
     "text": [
      "{'Istanbul': ('1,809 km', 1242.0833333333333, 28.9783589, 41.0082376), 'Amsterdam': ('4,528 km', 2853.1666666666665, 4.9041389, 52.3675734), 'Valletta': ('3,783 km', 3029.3166666666666, 14.5145528, 35.8989085), 'Basel': ('4,091 km', 2622.75, 7.5885761, 47.5595986), 'Doha': ('2,104 km', 1311.3666666666666, 51.53103979999999, 25.2854473)}\n",
      "Istanbul : \n",
      " 1.\tDistance of the destination from Jerusalem in kilometers: 1,809 km \n",
      " 2.\tArrival time from Jerusalem to the destination in hours 20  and minutes  42 \n",
      " 3.\tLongitude of the destination: 28.9783589 \n",
      " 4.  Latitude of the destination:  41.0082376\n",
      "Amsterdam : \n",
      " 1.\tDistance of the destination from Jerusalem in kilometers: 4,528 km \n",
      " 2.\tArrival time from Jerusalem to the destination in hours 47  and minutes  33 \n",
      " 3.\tLongitude of the destination: 4.9041389 \n",
      " 4.  Latitude of the destination:  52.3675734\n",
      "Valletta : \n",
      " 1.\tDistance of the destination from Jerusalem in kilometers: 3,783 km \n",
      " 2.\tArrival time from Jerusalem to the destination in hours 50  and minutes  29 \n",
      " 3.\tLongitude of the destination: 14.5145528 \n",
      " 4.  Latitude of the destination:  35.8989085\n",
      "Basel : \n",
      " 1.\tDistance of the destination from Jerusalem in kilometers: 4,091 km \n",
      " 2.\tArrival time from Jerusalem to the destination in hours 43  and minutes  42 \n",
      " 3.\tLongitude of the destination: 7.5885761 \n",
      " 4.  Latitude of the destination:  47.5595986\n",
      "Doha : \n",
      " 1.\tDistance of the destination from Jerusalem in kilometers: 2,104 km \n",
      " 2.\tArrival time from Jerusalem to the destination in hours 21  and minutes  51 \n",
      " 3.\tLongitude of the destination: 51.53103979999999 \n",
      " 4.  Latitude of the destination:  25.2854473\n"
     ]
    },
    {
     "data": {
      "text/plain": [
       "['Amsterdam', 'Basel', 'Valletta']"
      ]
     },
     "execution_count": 1,
     "metadata": {},
     "output_type": "execute_result"
    }
   ],
   "source": [
    "import requests\n",
    "dests = open(\"dests.txt\")\n",
    "api_key_geo = \"\"\n",
    "api_key_dis = \"\"\n",
    "source_location = \"Jerusalem\"\n",
    "dictionary = dict()\n",
    "\n",
    "for destination in dests:\n",
    "    destination = destination.rstrip()\n",
    "    reuqets_path = \"https://maps.googleapis.com/maps/api/distancematrix/json?destinations=%s&origins=%s&key=%s\" % (destination,source_location,api_key_dis)\n",
    "    result1 = requests.get(reuqets_path).json()\n",
    "    while result1['status'] != \"OK\":\n",
    "            result1 = requests.get(reuqets_path).json()\n",
    "    distance = result1['rows'][0]['elements'][0]['distance']['text']\n",
    "    time =  (result1['rows'][0]['elements'][0]['duration']['value'])/60 # in minuets as requested\n",
    "    \n",
    "    # geocode\n",
    "    reuqets_path = \"https://maps.googleapis.com/maps/api/geocode/json?address=%s&key=%s\" % (destination,api_key_geo)\n",
    "    result2 = requests.get(reuqets_path).json()\n",
    "    while result2['status'] != \"OK\":\n",
    "        result2 = requests.get(reuqets_path).json()\n",
    "    longitude = result2['results'][0]['geometry']['location']['lng']\n",
    "    latitude = result2['results'][0]['geometry']['location']['lat']\n",
    "\n",
    "    dictionary[destination] = (distance, time, longitude, latitude)\n",
    "print(dictionary)\n",
    "\n",
    "for key,val in dictionary.items():\n",
    "    minutes_time = val[1]\n",
    "    hours =int( minutes_time // 60)  \n",
    "    minutes = int(minutes_time % 60) \n",
    "    print (key,\":\" ,'\\n',\n",
    "           '1.\tDistance of the destination from Jerusalem in kilometers:',val[0] ,'\\n', \n",
    "           '2.\tArrival time from Jerusalem to the destination in hours',hours,' and minutes ',minutes, '\\n',\n",
    "           '3.\tLongitude of the destination:', val[2],'\\n',\n",
    "           '4.  Latitude of the destination: ', val[3]) \n",
    "    \n",
    "sorted_dictionary = {}\n",
    "for key,val in dictionary.items():\n",
    "    sorted_dictionary[key]=val[0]\n",
    "sorted(sorted_dictionary, key=sorted_dictionary.get, reverse=True)[:3]"
   ]
  }
 ],
 "metadata": {
  "interpreter": {
   "hash": "31f2aee4e71d21fbe5cf8b01ff0e069b9275f58929596ceb00d14d90e3e16cd6"
  },
  "kernelspec": {
   "display_name": "Python 3.8.9 64-bit",
   "language": "python",
   "name": "python3"
  },
  "language_info": {
   "codemirror_mode": {
    "name": "ipython",
    "version": 3
   },
   "file_extension": ".py",
   "mimetype": "text/x-python",
   "name": "python",
   "nbconvert_exporter": "python",
   "pygments_lexer": "ipython3",
   "version": "3.8.9"
  },
  "orig_nbformat": 4
 },
 "nbformat": 4,
 "nbformat_minor": 2
}
